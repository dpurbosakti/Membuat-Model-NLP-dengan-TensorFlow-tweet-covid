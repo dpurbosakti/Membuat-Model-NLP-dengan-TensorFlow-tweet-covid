{
  "nbformat": 4,
  "nbformat_minor": 0,
  "metadata": {
    "colab": {
      "name": "Proyek Pertama : Membuat Model NLP dengan TensorFlow.ipynb",
      "provenance": [],
      "collapsed_sections": []
    },
    "kernelspec": {
      "name": "python3",
      "display_name": "Python 3"
    },
    "language_info": {
      "name": "python"
    }
  },
  "cells": [
    {
      "cell_type": "code",
      "metadata": {
        "id": "nzDZxD8rMGEJ"
      },
      "source": [
        "import pandas as pd"
      ],
      "execution_count": 1,
      "outputs": []
    },
    {
      "cell_type": "code",
      "metadata": {
        "colab": {
          "resources": {
            "http://localhost:8080/nbextensions/google.colab/files.js": {
              "data": "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",
              "ok": true,
              "headers": [
                [
                  "content-type",
                  "application/javascript"
                ]
              ],
              "status": 200,
              "status_text": ""
            }
          },
          "base_uri": "https://localhost:8080/",
          "height": 73
        },
        "id": "mA3ReJ8FTQzA",
        "outputId": "94cac970-1a6f-4374-e138-cad72633fdd9"
      },
      "source": [
        "from google.colab import files\n",
        "uploaded = files.upload()"
      ],
      "execution_count": 22,
      "outputs": [
        {
          "output_type": "display_data",
          "data": {
            "text/html": [
              "\n",
              "     <input type=\"file\" id=\"files-dab22d88-4b23-42d3-a180-fd12ae60b66e\" name=\"files[]\" multiple disabled\n",
              "        style=\"border:none\" />\n",
              "     <output id=\"result-dab22d88-4b23-42d3-a180-fd12ae60b66e\">\n",
              "      Upload widget is only available when the cell has been executed in the\n",
              "      current browser session. Please rerun this cell to enable.\n",
              "      </output>\n",
              "      <script src=\"/nbextensions/google.colab/files.js\"></script> "
            ],
            "text/plain": [
              "<IPython.core.display.HTML object>"
            ]
          },
          "metadata": {
            "tags": []
          }
        },
        {
          "output_type": "stream",
          "text": [
            "Saving covid19_tweet160621.csv to covid19_tweet160621.csv\n"
          ],
          "name": "stdout"
        }
      ]
    },
    {
      "cell_type": "code",
      "metadata": {
        "id": "T5rR_7tWN5XM",
        "colab": {
          "base_uri": "https://localhost:8080/",
          "height": 417
        },
        "outputId": "f3c5bbc3-9eaa-4175-9bad-72fbfdaa0765"
      },
      "source": [
        "df_tweet = pd.read_csv('/content/covid19_tweet160621.csv')\n",
        "df_tweet = df_tweet[['sentiment', 'Content']]\n",
        "df_tweet"
      ],
      "execution_count": 2,
      "outputs": [
        {
          "output_type": "execute_result",
          "data": {
            "text/html": [
              "<div>\n",
              "<style scoped>\n",
              "    .dataframe tbody tr th:only-of-type {\n",
              "        vertical-align: middle;\n",
              "    }\n",
              "\n",
              "    .dataframe tbody tr th {\n",
              "        vertical-align: top;\n",
              "    }\n",
              "\n",
              "    .dataframe thead th {\n",
              "        text-align: right;\n",
              "    }\n",
              "</style>\n",
              "<table border=\"1\" class=\"dataframe\">\n",
              "  <thead>\n",
              "    <tr style=\"text-align: right;\">\n",
              "      <th></th>\n",
              "      <th>sentiment</th>\n",
              "      <th>Content</th>\n",
              "    </tr>\n",
              "  </thead>\n",
              "  <tbody>\n",
              "    <tr>\n",
              "      <th>0</th>\n",
              "      <td>-18.181818</td>\n",
              "      <td>Myanmar people are suffering Covid-19 virus an...</td>\n",
              "    </tr>\n",
              "    <tr>\n",
              "      <th>1</th>\n",
              "      <td>0.000000</td>\n",
              "      <td>@BMarchetich @oriwa_ @androidmunk The reality ...</td>\n",
              "    </tr>\n",
              "    <tr>\n",
              "      <th>2</th>\n",
              "      <td>-18.181818</td>\n",
              "      <td>Myanmar people are suffering Covid-19 virus an...</td>\n",
              "    </tr>\n",
              "    <tr>\n",
              "      <th>3</th>\n",
              "      <td>-6.250000</td>\n",
              "      <td>COVID-19: 600,000 American lives have now been...</td>\n",
              "    </tr>\n",
              "    <tr>\n",
              "      <th>4</th>\n",
              "      <td>-18.181818</td>\n",
              "      <td>Myanmar people are suffering Covid-19 virus an...</td>\n",
              "    </tr>\n",
              "    <tr>\n",
              "      <th>...</th>\n",
              "      <td>...</td>\n",
              "      <td>...</td>\n",
              "    </tr>\n",
              "    <tr>\n",
              "      <th>6495</th>\n",
              "      <td>0.000000</td>\n",
              "      <td>ICYMI: Here are Tuesday's COVID-19 numbers for...</td>\n",
              "    </tr>\n",
              "    <tr>\n",
              "      <th>6496</th>\n",
              "      <td>8.695652</td>\n",
              "      <td>Get the vaccine to safely make memories with t...</td>\n",
              "    </tr>\n",
              "    <tr>\n",
              "      <th>6497</th>\n",
              "      <td>-3.225806</td>\n",
              "      <td>Shasta County #COVID19 update for Tuesday: Ano...</td>\n",
              "    </tr>\n",
              "    <tr>\n",
              "      <th>6498</th>\n",
              "      <td>4.545455</td>\n",
              "      <td>The HB 271 bill helps local governments gain m...</td>\n",
              "    </tr>\n",
              "    <tr>\n",
              "      <th>6499</th>\n",
              "      <td>0.000000</td>\n",
              "      <td>Covid-19 pandemic, snap polls cast a shadow of...</td>\n",
              "    </tr>\n",
              "  </tbody>\n",
              "</table>\n",
              "<p>6500 rows × 2 columns</p>\n",
              "</div>"
            ],
            "text/plain": [
              "      sentiment                                            Content\n",
              "0    -18.181818  Myanmar people are suffering Covid-19 virus an...\n",
              "1      0.000000  @BMarchetich @oriwa_ @androidmunk The reality ...\n",
              "2    -18.181818  Myanmar people are suffering Covid-19 virus an...\n",
              "3     -6.250000  COVID-19: 600,000 American lives have now been...\n",
              "4    -18.181818  Myanmar people are suffering Covid-19 virus an...\n",
              "...         ...                                                ...\n",
              "6495   0.000000  ICYMI: Here are Tuesday's COVID-19 numbers for...\n",
              "6496   8.695652  Get the vaccine to safely make memories with t...\n",
              "6497  -3.225806  Shasta County #COVID19 update for Tuesday: Ano...\n",
              "6498   4.545455  The HB 271 bill helps local governments gain m...\n",
              "6499   0.000000  Covid-19 pandemic, snap polls cast a shadow of...\n",
              "\n",
              "[6500 rows x 2 columns]"
            ]
          },
          "metadata": {
            "tags": []
          },
          "execution_count": 2
        }
      ]
    },
    {
      "cell_type": "code",
      "metadata": {
        "id": "mMCIjVXBSGlj"
      },
      "source": [
        "def f(row):\n",
        "  if row['sentiment'] > 0:\n",
        "    val = 'positive'\n",
        "  elif row['sentiment'] < 0:\n",
        "    val = 'negative'\n",
        "  else:\n",
        "    val = 'neutral'\n",
        "  return val\n",
        "\n",
        "df_tweet['sentimen'] = df_tweet.apply(f, axis=1)"
      ],
      "execution_count": 3,
      "outputs": []
    },
    {
      "cell_type": "code",
      "metadata": {
        "id": "5VeLKvGr1vgL",
        "colab": {
          "base_uri": "https://localhost:8080/",
          "height": 316
        },
        "outputId": "38dbf891-247e-4b55-dd95-2567910c7953"
      },
      "source": [
        "pd.value_counts(df_tweet['sentimen']).plot.bar()"
      ],
      "execution_count": 4,
      "outputs": [
        {
          "output_type": "execute_result",
          "data": {
            "text/plain": [
              "<matplotlib.axes._subplots.AxesSubplot at 0x7fef7454b210>"
            ]
          },
          "metadata": {
            "tags": []
          },
          "execution_count": 4
        },
        {
          "output_type": "display_data",
          "data": {
            "image/png": "[encoded data removed]",
            "text/plain": [
              "<Figure size 432x288 with 1 Axes>"
            ]
          },
          "metadata": {
            "tags": [],
            "needs_background": "light"
          }
        }
      ]
    },
    {
      "cell_type": "code",
      "metadata": {
        "id": "Nm8iAn5QTIQM"
      },
      "source": [
        "df_tweet = df_tweet.drop(columns=['sentiment'])"
      ],
      "execution_count": 5,
      "outputs": []
    },
    {
      "cell_type": "code",
      "metadata": {
        "id": "ffKTOYWAW1mE"
      },
      "source": [
        "category  = pd.get_dummies(df_tweet['sentimen'])"
      ],
      "execution_count": 6,
      "outputs": []
    },
    {
      "cell_type": "code",
      "metadata": {
        "id": "wzhjvl4mXLsy",
        "colab": {
          "base_uri": "https://localhost:8080/",
          "height": 417
        },
        "outputId": "27b52c4b-ee2a-4236-a608-2a8ece1aa8d0"
      },
      "source": [
        "new_df = pd.concat([df_tweet, category], axis=1)\n",
        "new_df = new_df.drop(columns=['sentimen'])\n",
        "new_df"
      ],
      "execution_count": 7,
      "outputs": [
        {
          "output_type": "execute_result",
          "data": {
            "text/html": [
              "<div>\n",
              "<style scoped>\n",
              "    .dataframe tbody tr th:only-of-type {\n",
              "        vertical-align: middle;\n",
              "    }\n",
              "\n",
              "    .dataframe tbody tr th {\n",
              "        vertical-align: top;\n",
              "    }\n",
              "\n",
              "    .dataframe thead th {\n",
              "        text-align: right;\n",
              "    }\n",
              "</style>\n",
              "<table border=\"1\" class=\"dataframe\">\n",
              "  <thead>\n",
              "    <tr style=\"text-align: right;\">\n",
              "      <th></th>\n",
              "      <th>Content</th>\n",
              "      <th>negative</th>\n",
              "      <th>neutral</th>\n",
              "      <th>positive</th>\n",
              "    </tr>\n",
              "  </thead>\n",
              "  <tbody>\n",
              "    <tr>\n",
              "      <th>0</th>\n",
              "      <td>Myanmar people are suffering Covid-19 virus an...</td>\n",
              "      <td>1</td>\n",
              "      <td>0</td>\n",
              "      <td>0</td>\n",
              "    </tr>\n",
              "    <tr>\n",
              "      <th>1</th>\n",
              "      <td>@BMarchetich @oriwa_ @androidmunk The reality ...</td>\n",
              "      <td>0</td>\n",
              "      <td>1</td>\n",
              "      <td>0</td>\n",
              "    </tr>\n",
              "    <tr>\n",
              "      <th>2</th>\n",
              "      <td>Myanmar people are suffering Covid-19 virus an...</td>\n",
              "      <td>1</td>\n",
              "      <td>0</td>\n",
              "      <td>0</td>\n",
              "    </tr>\n",
              "    <tr>\n",
              "      <th>3</th>\n",
              "      <td>COVID-19: 600,000 American lives have now been...</td>\n",
              "      <td>1</td>\n",
              "      <td>0</td>\n",
              "      <td>0</td>\n",
              "    </tr>\n",
              "    <tr>\n",
              "      <th>4</th>\n",
              "      <td>Myanmar people are suffering Covid-19 virus an...</td>\n",
              "      <td>1</td>\n",
              "      <td>0</td>\n",
              "      <td>0</td>\n",
              "    </tr>\n",
              "    <tr>\n",
              "      <th>...</th>\n",
              "      <td>...</td>\n",
              "      <td>...</td>\n",
              "      <td>...</td>\n",
              "      <td>...</td>\n",
              "    </tr>\n",
              "    <tr>\n",
              "      <th>6495</th>\n",
              "      <td>ICYMI: Here are Tuesday's COVID-19 numbers for...</td>\n",
              "      <td>0</td>\n",
              "      <td>1</td>\n",
              "      <td>0</td>\n",
              "    </tr>\n",
              "    <tr>\n",
              "      <th>6496</th>\n",
              "      <td>Get the vaccine to safely make memories with t...</td>\n",
              "      <td>0</td>\n",
              "      <td>0</td>\n",
              "      <td>1</td>\n",
              "    </tr>\n",
              "    <tr>\n",
              "      <th>6497</th>\n",
              "      <td>Shasta County #COVID19 update for Tuesday: Ano...</td>\n",
              "      <td>1</td>\n",
              "      <td>0</td>\n",
              "      <td>0</td>\n",
              "    </tr>\n",
              "    <tr>\n",
              "      <th>6498</th>\n",
              "      <td>The HB 271 bill helps local governments gain m...</td>\n",
              "      <td>0</td>\n",
              "      <td>0</td>\n",
              "      <td>1</td>\n",
              "    </tr>\n",
              "    <tr>\n",
              "      <th>6499</th>\n",
              "      <td>Covid-19 pandemic, snap polls cast a shadow of...</td>\n",
              "      <td>0</td>\n",
              "      <td>1</td>\n",
              "      <td>0</td>\n",
              "    </tr>\n",
              "  </tbody>\n",
              "</table>\n",
              "<p>6500 rows × 4 columns</p>\n",
              "</div>"
            ],
            "text/plain": [
              "                                                Content  ...  positive\n",
              "0     Myanmar people are suffering Covid-19 virus an...  ...         0\n",
              "1     @BMarchetich @oriwa_ @androidmunk The reality ...  ...         0\n",
              "2     Myanmar people are suffering Covid-19 virus an...  ...         0\n",
              "3     COVID-19: 600,000 American lives have now been...  ...         0\n",
              "4     Myanmar people are suffering Covid-19 virus an...  ...         0\n",
              "...                                                 ...  ...       ...\n",
              "6495  ICYMI: Here are Tuesday's COVID-19 numbers for...  ...         0\n",
              "6496  Get the vaccine to safely make memories with t...  ...         1\n",
              "6497  Shasta County #COVID19 update for Tuesday: Ano...  ...         0\n",
              "6498  The HB 271 bill helps local governments gain m...  ...         1\n",
              "6499  Covid-19 pandemic, snap polls cast a shadow of...  ...         0\n",
              "\n",
              "[6500 rows x 4 columns]"
            ]
          },
          "metadata": {
            "tags": []
          },
          "execution_count": 7
        }
      ]
    },
    {
      "cell_type": "code",
      "metadata": {
        "id": "gLTzsDDdXYrq",
        "colab": {
          "base_uri": "https://localhost:8080/",
          "height": 450
        },
        "outputId": "ca5db5ce-34aa-426a-98e7-d5ec512374ad"
      },
      "source": [
        "#Removing RT, Punctuation etc\n",
        "print(new_df.shape)\n",
        "#remove punctuations, emoji, number, Single character removal, multiple space, and enter\n",
        "new_df['Content'] = new_df['Content'].str.lower().str.replace(r\"[^a-zA-Z]\", \" \").str.replace(r\"\\s+[a-zA-Z]\\s+\", \" \").str.strip().replace('\\s+', ' ', regex=True).str.strip()\n",
        "\n",
        "#Removes duplicates in place\n",
        "new_df.drop_duplicates(keep=False, inplace=True)\n",
        "print(new_df.shape) \n",
        "new_df"
      ],
      "execution_count": 8,
      "outputs": [
        {
          "output_type": "stream",
          "text": [
            "(6500, 4)\n",
            "(6302, 4)\n"
          ],
          "name": "stdout"
        },
        {
          "output_type": "execute_result",
          "data": {
            "text/html": [
              "<div>\n",
              "<style scoped>\n",
              "    .dataframe tbody tr th:only-of-type {\n",
              "        vertical-align: middle;\n",
              "    }\n",
              "\n",
              "    .dataframe tbody tr th {\n",
              "        vertical-align: top;\n",
              "    }\n",
              "\n",
              "    .dataframe thead th {\n",
              "        text-align: right;\n",
              "    }\n",
              "</style>\n",
              "<table border=\"1\" class=\"dataframe\">\n",
              "  <thead>\n",
              "    <tr style=\"text-align: right;\">\n",
              "      <th></th>\n",
              "      <th>Content</th>\n",
              "      <th>negative</th>\n",
              "      <th>neutral</th>\n",
              "      <th>positive</th>\n",
              "    </tr>\n",
              "  </thead>\n",
              "  <tbody>\n",
              "    <tr>\n",
              "      <th>0</th>\n",
              "      <td>myanmar people are suffering covid virus and m...</td>\n",
              "      <td>1</td>\n",
              "      <td>0</td>\n",
              "      <td>0</td>\n",
              "    </tr>\n",
              "    <tr>\n",
              "      <th>1</th>\n",
              "      <td>bmarchetich oriwa androidmunk the reality is t...</td>\n",
              "      <td>0</td>\n",
              "      <td>1</td>\n",
              "      <td>0</td>\n",
              "    </tr>\n",
              "    <tr>\n",
              "      <th>2</th>\n",
              "      <td>myanmar people are suffering covid virus and m...</td>\n",
              "      <td>1</td>\n",
              "      <td>0</td>\n",
              "      <td>0</td>\n",
              "    </tr>\n",
              "    <tr>\n",
              "      <th>3</th>\n",
              "      <td>covid american lives have now been lost to the...</td>\n",
              "      <td>1</td>\n",
              "      <td>0</td>\n",
              "      <td>0</td>\n",
              "    </tr>\n",
              "    <tr>\n",
              "      <th>4</th>\n",
              "      <td>myanmar people are suffering covid virus and m...</td>\n",
              "      <td>1</td>\n",
              "      <td>0</td>\n",
              "      <td>0</td>\n",
              "    </tr>\n",
              "    <tr>\n",
              "      <th>...</th>\n",
              "      <td>...</td>\n",
              "      <td>...</td>\n",
              "      <td>...</td>\n",
              "      <td>...</td>\n",
              "    </tr>\n",
              "    <tr>\n",
              "      <th>6495</th>\n",
              "      <td>icymi here are tuesday covid numbers for milto...</td>\n",
              "      <td>0</td>\n",
              "      <td>1</td>\n",
              "      <td>0</td>\n",
              "    </tr>\n",
              "    <tr>\n",
              "      <th>6496</th>\n",
              "      <td>get the vaccine to safely make memories with t...</td>\n",
              "      <td>0</td>\n",
              "      <td>0</td>\n",
              "      <td>1</td>\n",
              "    </tr>\n",
              "    <tr>\n",
              "      <th>6497</th>\n",
              "      <td>shasta county covid update for tuesday another...</td>\n",
              "      <td>1</td>\n",
              "      <td>0</td>\n",
              "      <td>0</td>\n",
              "    </tr>\n",
              "    <tr>\n",
              "      <th>6498</th>\n",
              "      <td>the hb bill helps local governments gain more ...</td>\n",
              "      <td>0</td>\n",
              "      <td>0</td>\n",
              "      <td>1</td>\n",
              "    </tr>\n",
              "    <tr>\n",
              "      <th>6499</th>\n",
              "      <td>covid pandemic snap polls cast shadow of uncer...</td>\n",
              "      <td>0</td>\n",
              "      <td>1</td>\n",
              "      <td>0</td>\n",
              "    </tr>\n",
              "  </tbody>\n",
              "</table>\n",
              "<p>6302 rows × 4 columns</p>\n",
              "</div>"
            ],
            "text/plain": [
              "                                                Content  ...  positive\n",
              "0     myanmar people are suffering covid virus and m...  ...         0\n",
              "1     bmarchetich oriwa androidmunk the reality is t...  ...         0\n",
              "2     myanmar people are suffering covid virus and m...  ...         0\n",
              "3     covid american lives have now been lost to the...  ...         0\n",
              "4     myanmar people are suffering covid virus and m...  ...         0\n",
              "...                                                 ...  ...       ...\n",
              "6495  icymi here are tuesday covid numbers for milto...  ...         0\n",
              "6496  get the vaccine to safely make memories with t...  ...         1\n",
              "6497  shasta county covid update for tuesday another...  ...         0\n",
              "6498  the hb bill helps local governments gain more ...  ...         1\n",
              "6499  covid pandemic snap polls cast shadow of uncer...  ...         0\n",
              "\n",
              "[6302 rows x 4 columns]"
            ]
          },
          "metadata": {
            "tags": []
          },
          "execution_count": 8
        }
      ]
    },
    {
      "cell_type": "code",
      "metadata": {
        "id": "wJJvz0VL7pey",
        "colab": {
          "base_uri": "https://localhost:8080/",
          "height": 487
        },
        "outputId": "d0a3831a-2d22-4f84-ca9a-e2ef330ab2ea"
      },
      "source": [
        "#removing stopwords\n",
        "import nltk\n",
        "from nltk.corpus import stopwords\n",
        "nltk.download('stopwords')\n",
        "def stopword(sentence):\n",
        "    review = [words for words in sentence.split() if words not in set(stopwords.words('english'))]\n",
        "    review = ' '.join(review)\n",
        "    return review\n",
        "print(stopwords.words('english'))\n",
        "new_df['Content'] = new_df['Content'].apply(stopword)\n",
        "new_df"
      ],
      "execution_count": 9,
      "outputs": [
        {
          "output_type": "stream",
          "text": [
            "[nltk_data] Downloading package stopwords to /root/nltk_data...\n",
            "[nltk_data]   Package stopwords is already up-to-date!\n",
            "['i', 'me', 'my', 'myself', 'we', 'our', 'ours', 'ourselves', 'you', \"you're\", \"you've\", \"you'll\", \"you'd\", 'your', 'yours', 'yourself', 'yourselves', 'he', 'him', 'his', 'himself', 'she', \"she's\", 'her', 'hers', 'herself', 'it', \"it's\", 'its', 'itself', 'they', 'them', 'their', 'theirs', 'themselves', 'what', 'which', 'who', 'whom', 'this', 'that', \"that'll\", 'these', 'those', 'am', 'is', 'are', 'was', 'were', 'be', 'been', 'being', 'have', 'has', 'had', 'having', 'do', 'does', 'did', 'doing', 'a', 'an', 'the', 'and', 'but', 'if', 'or', 'because', 'as', 'until', 'while', 'of', 'at', 'by', 'for', 'with', 'about', 'against', 'between', 'into', 'through', 'during', 'before', 'after', 'above', 'below', 'to', 'from', 'up', 'down', 'in', 'out', 'on', 'off', 'over', 'under', 'again', 'further', 'then', 'once', 'here', 'there', 'when', 'where', 'why', 'how', 'all', 'any', 'both', 'each', 'few', 'more', 'most', 'other', 'some', 'such', 'no', 'nor', 'not', 'only', 'own', 'same', 'so', 'than', 'too', 'very', 's', 't', 'can', 'will', 'just', 'don', \"don't\", 'should', \"should've\", 'now', 'd', 'll', 'm', 'o', 're', 've', 'y', 'ain', 'aren', \"aren't\", 'couldn', \"couldn't\", 'didn', \"didn't\", 'doesn', \"doesn't\", 'hadn', \"hadn't\", 'hasn', \"hasn't\", 'haven', \"haven't\", 'isn', \"isn't\", 'ma', 'mightn', \"mightn't\", 'mustn', \"mustn't\", 'needn', \"needn't\", 'shan', \"shan't\", 'shouldn', \"shouldn't\", 'wasn', \"wasn't\", 'weren', \"weren't\", 'won', \"won't\", 'wouldn', \"wouldn't\"]\n"
          ],
          "name": "stdout"
        },
        {
          "output_type": "execute_result",
          "data": {
            "text/html": [
              "<div>\n",
              "<style scoped>\n",
              "    .dataframe tbody tr th:only-of-type {\n",
              "        vertical-align: middle;\n",
              "    }\n",
              "\n",
              "    .dataframe tbody tr th {\n",
              "        vertical-align: top;\n",
              "    }\n",
              "\n",
              "    .dataframe thead th {\n",
              "        text-align: right;\n",
              "    }\n",
              "</style>\n",
              "<table border=\"1\" class=\"dataframe\">\n",
              "  <thead>\n",
              "    <tr style=\"text-align: right;\">\n",
              "      <th></th>\n",
              "      <th>Content</th>\n",
              "      <th>negative</th>\n",
              "      <th>neutral</th>\n",
              "      <th>positive</th>\n",
              "    </tr>\n",
              "  </thead>\n",
              "  <tbody>\n",
              "    <tr>\n",
              "      <th>0</th>\n",
              "      <td>myanmar people suffering covid virus cruel min...</td>\n",
              "      <td>1</td>\n",
              "      <td>0</td>\n",
              "      <td>0</td>\n",
              "    </tr>\n",
              "    <tr>\n",
              "      <th>1</th>\n",
              "      <td>bmarchetich oriwa androidmunk reality possible...</td>\n",
              "      <td>0</td>\n",
              "      <td>1</td>\n",
              "      <td>0</td>\n",
              "    </tr>\n",
              "    <tr>\n",
              "      <th>2</th>\n",
              "      <td>myanmar people suffering covid virus cruel min...</td>\n",
              "      <td>1</td>\n",
              "      <td>0</td>\n",
              "      <td>0</td>\n",
              "    </tr>\n",
              "    <tr>\n",
              "      <th>3</th>\n",
              "      <td>covid american lives lost pandemic https co lq...</td>\n",
              "      <td>1</td>\n",
              "      <td>0</td>\n",
              "      <td>0</td>\n",
              "    </tr>\n",
              "    <tr>\n",
              "      <th>4</th>\n",
              "      <td>myanmar people suffering covid virus cruel min...</td>\n",
              "      <td>1</td>\n",
              "      <td>0</td>\n",
              "      <td>0</td>\n",
              "    </tr>\n",
              "    <tr>\n",
              "      <th>...</th>\n",
              "      <td>...</td>\n",
              "      <td>...</td>\n",
              "      <td>...</td>\n",
              "      <td>...</td>\n",
              "    </tr>\n",
              "    <tr>\n",
              "      <th>6495</th>\n",
              "      <td>icymi tuesday covid numbers milton halton http...</td>\n",
              "      <td>0</td>\n",
              "      <td>1</td>\n",
              "      <td>0</td>\n",
              "    </tr>\n",
              "    <tr>\n",
              "      <th>6496</th>\n",
              "      <td>get vaccine safely make memories ones love fin...</td>\n",
              "      <td>0</td>\n",
              "      <td>0</td>\n",
              "      <td>1</td>\n",
              "    </tr>\n",
              "    <tr>\n",
              "      <th>6497</th>\n",
              "      <td>shasta county covid update tuesday another cor...</td>\n",
              "      <td>1</td>\n",
              "      <td>0</td>\n",
              "      <td>0</td>\n",
              "    </tr>\n",
              "    <tr>\n",
              "      <th>6498</th>\n",
              "      <td>hb bill helps local governments gain control p...</td>\n",
              "      <td>0</td>\n",
              "      <td>0</td>\n",
              "      <td>1</td>\n",
              "    </tr>\n",
              "    <tr>\n",
              "      <th>6499</th>\n",
              "      <td>covid pandemic snap polls cast shadow uncertai...</td>\n",
              "      <td>0</td>\n",
              "      <td>1</td>\n",
              "      <td>0</td>\n",
              "    </tr>\n",
              "  </tbody>\n",
              "</table>\n",
              "<p>6302 rows × 4 columns</p>\n",
              "</div>"
            ],
            "text/plain": [
              "                                                Content  ...  positive\n",
              "0     myanmar people suffering covid virus cruel min...  ...         0\n",
              "1     bmarchetich oriwa androidmunk reality possible...  ...         0\n",
              "2     myanmar people suffering covid virus cruel min...  ...         0\n",
              "3     covid american lives lost pandemic https co lq...  ...         0\n",
              "4     myanmar people suffering covid virus cruel min...  ...         0\n",
              "...                                                 ...  ...       ...\n",
              "6495  icymi tuesday covid numbers milton halton http...  ...         0\n",
              "6496  get vaccine safely make memories ones love fin...  ...         1\n",
              "6497  shasta county covid update tuesday another cor...  ...         0\n",
              "6498  hb bill helps local governments gain control p...  ...         1\n",
              "6499  covid pandemic snap polls cast shadow uncertai...  ...         0\n",
              "\n",
              "[6302 rows x 4 columns]"
            ]
          },
          "metadata": {
            "tags": []
          },
          "execution_count": 9
        }
      ]
    },
    {
      "cell_type": "code",
      "metadata": {
        "id": "LXb4w7Wr-V5L",
        "colab": {
          "base_uri": "https://localhost:8080/",
          "height": 417
        },
        "outputId": "2a485baf-a1e5-4ad8-d8a1-5d43b342ea80"
      },
      "source": [
        "stemmer = nltk.SnowballStemmer(\"english\")\n",
        "\n",
        "def stemm_text(text):\n",
        "    text = ' '.join(stemmer.stem(word) for word in text.split(' '))\n",
        "    return text\n",
        "new_df['Content'] = new_df['Content'].apply(stemm_text)\n",
        "new_df"
      ],
      "execution_count": 10,
      "outputs": [
        {
          "output_type": "execute_result",
          "data": {
            "text/html": [
              "<div>\n",
              "<style scoped>\n",
              "    .dataframe tbody tr th:only-of-type {\n",
              "        vertical-align: middle;\n",
              "    }\n",
              "\n",
              "    .dataframe tbody tr th {\n",
              "        vertical-align: top;\n",
              "    }\n",
              "\n",
              "    .dataframe thead th {\n",
              "        text-align: right;\n",
              "    }\n",
              "</style>\n",
              "<table border=\"1\" class=\"dataframe\">\n",
              "  <thead>\n",
              "    <tr style=\"text-align: right;\">\n",
              "      <th></th>\n",
              "      <th>Content</th>\n",
              "      <th>negative</th>\n",
              "      <th>neutral</th>\n",
              "      <th>positive</th>\n",
              "    </tr>\n",
              "  </thead>\n",
              "  <tbody>\n",
              "    <tr>\n",
              "      <th>0</th>\n",
              "      <td>myanmar peopl suffer covid virus cruel min aun...</td>\n",
              "      <td>1</td>\n",
              "      <td>0</td>\n",
              "      <td>0</td>\n",
              "    </tr>\n",
              "    <tr>\n",
              "      <th>1</th>\n",
              "      <td>bmarchetich oriwa androidmunk realiti possibl ...</td>\n",
              "      <td>0</td>\n",
              "      <td>1</td>\n",
              "      <td>0</td>\n",
              "    </tr>\n",
              "    <tr>\n",
              "      <th>2</th>\n",
              "      <td>myanmar peopl suffer covid virus cruel min aun...</td>\n",
              "      <td>1</td>\n",
              "      <td>0</td>\n",
              "      <td>0</td>\n",
              "    </tr>\n",
              "    <tr>\n",
              "      <th>3</th>\n",
              "      <td>covid american live lost pandem https co lqsth...</td>\n",
              "      <td>1</td>\n",
              "      <td>0</td>\n",
              "      <td>0</td>\n",
              "    </tr>\n",
              "    <tr>\n",
              "      <th>4</th>\n",
              "      <td>myanmar peopl suffer covid virus cruel min aun...</td>\n",
              "      <td>1</td>\n",
              "      <td>0</td>\n",
              "      <td>0</td>\n",
              "    </tr>\n",
              "    <tr>\n",
              "      <th>...</th>\n",
              "      <td>...</td>\n",
              "      <td>...</td>\n",
              "      <td>...</td>\n",
              "      <td>...</td>\n",
              "    </tr>\n",
              "    <tr>\n",
              "      <th>6495</th>\n",
              "      <td>icymi tuesday covid number milton halton https...</td>\n",
              "      <td>0</td>\n",
              "      <td>1</td>\n",
              "      <td>0</td>\n",
              "    </tr>\n",
              "    <tr>\n",
              "      <th>6496</th>\n",
              "      <td>get vaccin safe make memori one love find covi...</td>\n",
              "      <td>0</td>\n",
              "      <td>0</td>\n",
              "      <td>1</td>\n",
              "    </tr>\n",
              "    <tr>\n",
              "      <th>6497</th>\n",
              "      <td>shasta counti covid updat tuesday anoth corona...</td>\n",
              "      <td>1</td>\n",
              "      <td>0</td>\n",
              "      <td>0</td>\n",
              "    </tr>\n",
              "    <tr>\n",
              "      <th>6498</th>\n",
              "      <td>hb bill help local govern gain control public ...</td>\n",
              "      <td>0</td>\n",
              "      <td>0</td>\n",
              "      <td>1</td>\n",
              "    </tr>\n",
              "    <tr>\n",
              "      <th>6499</th>\n",
              "      <td>covid pandem snap poll cast shadow uncertainti...</td>\n",
              "      <td>0</td>\n",
              "      <td>1</td>\n",
              "      <td>0</td>\n",
              "    </tr>\n",
              "  </tbody>\n",
              "</table>\n",
              "<p>6302 rows × 4 columns</p>\n",
              "</div>"
            ],
            "text/plain": [
              "                                                Content  ...  positive\n",
              "0     myanmar peopl suffer covid virus cruel min aun...  ...         0\n",
              "1     bmarchetich oriwa androidmunk realiti possibl ...  ...         0\n",
              "2     myanmar peopl suffer covid virus cruel min aun...  ...         0\n",
              "3     covid american live lost pandem https co lqsth...  ...         0\n",
              "4     myanmar peopl suffer covid virus cruel min aun...  ...         0\n",
              "...                                                 ...  ...       ...\n",
              "6495  icymi tuesday covid number milton halton https...  ...         0\n",
              "6496  get vaccin safe make memori one love find covi...  ...         1\n",
              "6497  shasta counti covid updat tuesday anoth corona...  ...         0\n",
              "6498  hb bill help local govern gain control public ...  ...         1\n",
              "6499  covid pandem snap poll cast shadow uncertainti...  ...         0\n",
              "\n",
              "[6302 rows x 4 columns]"
            ]
          },
          "metadata": {
            "tags": []
          },
          "execution_count": 10
        }
      ]
    },
    {
      "cell_type": "code",
      "metadata": {
        "id": "DvTOY12xhRp5"
      },
      "source": [
        "sentimen = new_df['Content'].values\n",
        "label = new_df[['negative', 'neutral', 'positive']].values"
      ],
      "execution_count": 11,
      "outputs": []
    },
    {
      "cell_type": "code",
      "metadata": {
        "id": "TQAg5YdCi2xh"
      },
      "source": [
        "from sklearn.model_selection import train_test_split\n",
        "sentimen_latih, sentimen_test, label_latih, label_test = train_test_split(sentimen, label, test_size=0.2)"
      ],
      "execution_count": 12,
      "outputs": []
    },
    {
      "cell_type": "code",
      "metadata": {
        "id": "mDwyTuJjjTs1",
        "colab": {
          "base_uri": "https://localhost:8080/"
        },
        "outputId": "6a08926b-dadc-4758-c55d-f52af9f693ba"
      },
      "source": [
        "import tensorflow as tf\n",
        "from tensorflow.keras.preprocessing.text import Tokenizer\n",
        "from tensorflow.keras.preprocessing.sequence import pad_sequences\n",
        "\n",
        "tokenizer = Tokenizer(num_words=300000, oov_token='x')\n",
        "tokenizer.fit_on_texts(sentimen_latih)\n",
        "\n",
        "sekuens_latih = tokenizer.texts_to_sequences(sentimen_latih)\n",
        "sekuens_test = tokenizer.texts_to_sequences(sentimen_test)\n",
        "\n",
        "padded_latih = pad_sequences(sekuens_latih)\n",
        "padded_test = pad_sequences(sekuens_test)\n",
        "\n",
        "padded_latih.shape"
      ],
      "execution_count": 13,
      "outputs": [
        {
          "output_type": "execute_result",
          "data": {
            "text/plain": [
              "(5041, 75)"
            ]
          },
          "metadata": {
            "tags": []
          },
          "execution_count": 13
        }
      ]
    },
    {
      "cell_type": "code",
      "metadata": {
        "id": "MtbD1AH5p84w",
        "colab": {
          "base_uri": "https://localhost:8080/"
        },
        "outputId": "f7f254cb-953a-49d9-b0d1-0e84ff8c691d"
      },
      "source": [
        "a = tokenizer.word_index\n",
        "jumlah_vocab = len(a)\n",
        "jumlah_vocab"
      ],
      "execution_count": 14,
      "outputs": [
        {
          "output_type": "execute_result",
          "data": {
            "text/plain": [
              "16539"
            ]
          },
          "metadata": {
            "tags": []
          },
          "execution_count": 14
        }
      ]
    },
    {
      "cell_type": "code",
      "metadata": {
        "id": "mYtzSTtJkzCz",
        "colab": {
          "base_uri": "https://localhost:8080/"
        },
        "outputId": "e700cc1a-ca7d-4d60-ec38-50c63cabc382"
      },
      "source": [
        "model = tf.keras.Sequential([\n",
        "                             tf.keras.layers.Embedding(input_dim=jumlah_vocab+2, output_dim=16),\n",
        "    tf.keras.layers.Dropout(0.2),\n",
        "                             tf.keras.layers.Bidirectional(tf.keras.layers.LSTM(128)),\n",
        "    tf.keras.layers.Dropout(0.2),\n",
        "    tf.keras.layers.Dense(64, activation='relu'),\n",
        "    tf.keras.layers.Dense(3, activation='softmax')\n",
        "])\n",
        "model.summary()"
      ],
      "execution_count": 15,
      "outputs": [
        {
          "output_type": "stream",
          "text": [
            "Model: \"sequential\"\n",
            "_________________________________________________________________\n",
            "Layer (type)                 Output Shape              Param #   \n",
            "=================================================================\n",
            "embedding (Embedding)        (None, None, 16)          264656    \n",
            "_________________________________________________________________\n",
            "dropout (Dropout)            (None, None, 16)          0         \n",
            "_________________________________________________________________\n",
            "bidirectional (Bidirectional (None, 256)               148480    \n",
            "_________________________________________________________________\n",
            "dropout_1 (Dropout)          (None, 256)               0         \n",
            "_________________________________________________________________\n",
            "dense (Dense)                (None, 64)                16448     \n",
            "_________________________________________________________________\n",
            "dense_1 (Dense)              (None, 3)                 195       \n",
            "=================================================================\n",
            "Total params: 429,779\n",
            "Trainable params: 429,779\n",
            "Non-trainable params: 0\n",
            "_________________________________________________________________\n"
          ],
          "name": "stdout"
        }
      ]
    },
    {
      "cell_type": "code",
      "metadata": {
        "id": "HqgYdrfcmAEM"
      },
      "source": [
        "model.compile(\n",
        "    optimizer='rmsprop',\n",
        "    loss='categorical_crossentropy', \n",
        "    metrics=['accuracy'])"
      ],
      "execution_count": 16,
      "outputs": []
    },
    {
      "cell_type": "code",
      "metadata": {
        "id": "YxAY_ZUMh2Tl",
        "colab": {
          "base_uri": "https://localhost:8080/"
        },
        "outputId": "021fb427-117c-4ca7-ab8d-018c2615bd29"
      },
      "source": [
        "from keras.callbacks import ModelCheckpoint\n",
        "checkpoint1 = ModelCheckpoint(\"best_model1.hdf5\", monitor='val_accuracy', verbose=1,save_best_only=True, mode='auto', period=1,save_weights_only=False)"
      ],
      "execution_count": 17,
      "outputs": [
        {
          "output_type": "stream",
          "text": [
            "WARNING:tensorflow:`period` argument is deprecated. Please use `save_freq` to specify the frequency in number of batches seen.\n"
          ],
          "name": "stdout"
        }
      ]
    },
    {
      "cell_type": "code",
      "metadata": {
        "id": "nkn4hw38mT9r",
        "colab": {
          "base_uri": "https://localhost:8080/"
        },
        "outputId": "ede884cb-b531-4e9b-d324-3275c2e7c42e"
      },
      "source": [
        "history = model.fit(padded_latih, label_latih, epochs=30, validation_data=(padded_test, label_test), callbacks=[checkpoint1])"
      ],
      "execution_count": 18,
      "outputs": [
        {
          "output_type": "stream",
          "text": [
            "Epoch 1/30\n",
            "158/158 [==============================] - 26s 137ms/step - loss: 0.9664 - accuracy: 0.5362 - val_loss: 0.7571 - val_accuracy: 0.6312\n",
            "\n",
            "Epoch 00001: val_accuracy improved from -inf to 0.63125, saving model to best_model1.hdf5\n",
            "Epoch 2/30\n",
            "158/158 [==============================] - 21s 132ms/step - loss: 0.6772 - accuracy: 0.6989 - val_loss: 0.6318 - val_accuracy: 0.7216\n",
            "\n",
            "Epoch 00002: val_accuracy improved from 0.63125 to 0.72165, saving model to best_model1.hdf5\n",
            "Epoch 3/30\n",
            "158/158 [==============================] - 21s 132ms/step - loss: 0.5026 - accuracy: 0.7915 - val_loss: 0.7288 - val_accuracy: 0.7010\n",
            "\n",
            "Epoch 00003: val_accuracy did not improve from 0.72165\n",
            "Epoch 4/30\n",
            "158/158 [==============================] - 21s 130ms/step - loss: 0.3828 - accuracy: 0.8552 - val_loss: 0.6544 - val_accuracy: 0.7185\n",
            "\n",
            "Epoch 00004: val_accuracy did not improve from 0.72165\n",
            "Epoch 5/30\n",
            "158/158 [==============================] - 21s 131ms/step - loss: 0.2843 - accuracy: 0.9034 - val_loss: 0.7747 - val_accuracy: 0.7684\n",
            "\n",
            "Epoch 00005: val_accuracy improved from 0.72165 to 0.76844, saving model to best_model1.hdf5\n",
            "Epoch 6/30\n",
            "158/158 [==============================] - 21s 131ms/step - loss: 0.2195 - accuracy: 0.9258 - val_loss: 0.7804 - val_accuracy: 0.7510\n",
            "\n",
            "Epoch 00006: val_accuracy did not improve from 0.76844\n",
            "Epoch 7/30\n",
            "158/158 [==============================] - 21s 131ms/step - loss: 0.1714 - accuracy: 0.9435 - val_loss: 0.8839 - val_accuracy: 0.7510\n",
            "\n",
            "Epoch 00007: val_accuracy did not improve from 0.76844\n",
            "Epoch 8/30\n",
            "158/158 [==============================] - 21s 131ms/step - loss: 0.1399 - accuracy: 0.9566 - val_loss: 1.0072 - val_accuracy: 0.7343\n",
            "\n",
            "Epoch 00008: val_accuracy did not improve from 0.76844\n",
            "Epoch 9/30\n",
            "158/158 [==============================] - 21s 131ms/step - loss: 0.1110 - accuracy: 0.9627 - val_loss: 1.2347 - val_accuracy: 0.7597\n",
            "\n",
            "Epoch 00009: val_accuracy did not improve from 0.76844\n",
            "Epoch 10/30\n",
            "158/158 [==============================] - 21s 131ms/step - loss: 0.0965 - accuracy: 0.9685 - val_loss: 1.1339 - val_accuracy: 0.7034\n",
            "\n",
            "Epoch 00010: val_accuracy did not improve from 0.76844\n",
            "Epoch 11/30\n",
            "158/158 [==============================] - 21s 132ms/step - loss: 0.0712 - accuracy: 0.9766 - val_loss: 1.1707 - val_accuracy: 0.7526\n",
            "\n",
            "Epoch 00011: val_accuracy did not improve from 0.76844\n",
            "Epoch 12/30\n",
            "158/158 [==============================] - 21s 131ms/step - loss: 0.0610 - accuracy: 0.9810 - val_loss: 1.2870 - val_accuracy: 0.7399\n",
            "\n",
            "Epoch 00012: val_accuracy did not improve from 0.76844\n",
            "Epoch 13/30\n",
            "158/158 [==============================] - 21s 131ms/step - loss: 0.0519 - accuracy: 0.9833 - val_loss: 1.4823 - val_accuracy: 0.7272\n",
            "\n",
            "Epoch 00013: val_accuracy did not improve from 0.76844\n",
            "Epoch 14/30\n",
            "158/158 [==============================] - 21s 132ms/step - loss: 0.0384 - accuracy: 0.9863 - val_loss: 1.5585 - val_accuracy: 0.7312\n",
            "\n",
            "Epoch 00014: val_accuracy did not improve from 0.76844\n",
            "Epoch 15/30\n",
            "158/158 [==============================] - 21s 131ms/step - loss: 0.0298 - accuracy: 0.9903 - val_loss: 1.4890 - val_accuracy: 0.7494\n",
            "\n",
            "Epoch 00015: val_accuracy did not improve from 0.76844\n",
            "Epoch 16/30\n",
            "158/158 [==============================] - 21s 131ms/step - loss: 0.0290 - accuracy: 0.9911 - val_loss: 1.8333 - val_accuracy: 0.7082\n",
            "\n",
            "Epoch 00016: val_accuracy did not improve from 0.76844\n",
            "Epoch 17/30\n",
            "158/158 [==============================] - 21s 131ms/step - loss: 0.0375 - accuracy: 0.9883 - val_loss: 1.5814 - val_accuracy: 0.7407\n",
            "\n",
            "Epoch 00017: val_accuracy did not improve from 0.76844\n",
            "Epoch 18/30\n",
            "158/158 [==============================] - 21s 132ms/step - loss: 0.0204 - accuracy: 0.9937 - val_loss: 1.5919 - val_accuracy: 0.7454\n",
            "\n",
            "Epoch 00018: val_accuracy did not improve from 0.76844\n",
            "Epoch 19/30\n",
            "158/158 [==============================] - 21s 131ms/step - loss: 0.0140 - accuracy: 0.9950 - val_loss: 2.1421 - val_accuracy: 0.7462\n",
            "\n",
            "Epoch 00019: val_accuracy did not improve from 0.76844\n",
            "Epoch 20/30\n",
            "158/158 [==============================] - 21s 131ms/step - loss: 0.0210 - accuracy: 0.9944 - val_loss: 1.9816 - val_accuracy: 0.7375\n",
            "\n",
            "Epoch 00020: val_accuracy did not improve from 0.76844\n",
            "Epoch 21/30\n",
            "158/158 [==============================] - 21s 132ms/step - loss: 0.0095 - accuracy: 0.9964 - val_loss: 2.1340 - val_accuracy: 0.7407\n",
            "\n",
            "Epoch 00021: val_accuracy did not improve from 0.76844\n",
            "Epoch 22/30\n",
            "158/158 [==============================] - 21s 132ms/step - loss: 0.0199 - accuracy: 0.9952 - val_loss: 2.4509 - val_accuracy: 0.7296\n",
            "\n",
            "Epoch 00022: val_accuracy did not improve from 0.76844\n",
            "Epoch 23/30\n",
            "158/158 [==============================] - 21s 132ms/step - loss: 0.0323 - accuracy: 0.9956 - val_loss: 2.3779 - val_accuracy: 0.7129\n",
            "\n",
            "Epoch 00023: val_accuracy did not improve from 0.76844\n",
            "Epoch 24/30\n",
            "158/158 [==============================] - 21s 132ms/step - loss: 0.0130 - accuracy: 0.9962 - val_loss: 2.3774 - val_accuracy: 0.7113\n",
            "\n",
            "Epoch 00024: val_accuracy did not improve from 0.76844\n",
            "Epoch 25/30\n",
            "158/158 [==============================] - 21s 133ms/step - loss: 0.0054 - accuracy: 0.9984 - val_loss: 2.7341 - val_accuracy: 0.6923\n",
            "\n",
            "Epoch 00025: val_accuracy did not improve from 0.76844\n",
            "Epoch 26/30\n",
            "158/158 [==============================] - 21s 135ms/step - loss: 0.0245 - accuracy: 0.9939 - val_loss: 2.8719 - val_accuracy: 0.7137\n",
            "\n",
            "Epoch 00026: val_accuracy did not improve from 0.76844\n",
            "Epoch 27/30\n",
            "158/158 [==============================] - 21s 132ms/step - loss: 0.0050 - accuracy: 0.9984 - val_loss: 2.6377 - val_accuracy: 0.7248\n",
            "\n",
            "Epoch 00027: val_accuracy did not improve from 0.76844\n",
            "Epoch 28/30\n",
            "158/158 [==============================] - 21s 132ms/step - loss: 0.0067 - accuracy: 0.9978 - val_loss: 2.4615 - val_accuracy: 0.7470\n",
            "\n",
            "Epoch 00028: val_accuracy did not improve from 0.76844\n",
            "Epoch 29/30\n",
            "158/158 [==============================] - 21s 134ms/step - loss: 0.0284 - accuracy: 0.9970 - val_loss: 2.8008 - val_accuracy: 0.7098\n",
            "\n",
            "Epoch 00029: val_accuracy did not improve from 0.76844\n",
            "Epoch 30/30\n",
            "158/158 [==============================] - 21s 133ms/step - loss: 0.0044 - accuracy: 0.9988 - val_loss: 2.9156 - val_accuracy: 0.7121\n",
            "\n",
            "Epoch 00030: val_accuracy did not improve from 0.76844\n"
          ],
          "name": "stdout"
        }
      ]
    },
    {
      "cell_type": "code",
      "metadata": {
        "colab": {
          "base_uri": "https://localhost:8080/",
          "height": 295
        },
        "id": "Lwr0Um2dSFIv",
        "outputId": "6ea1d1ad-9e0d-48c7-9c3f-fee75dbb2114"
      },
      "source": [
        "import matplotlib.pyplot as plt\n",
        "#loss plot\n",
        "plt.plot(history.history['loss'])\n",
        "plt.title('Model loss')\n",
        "plt.ylabel('loss')\n",
        "plt.xlabel('Epoch')\n",
        "plt.legend(['Train'], loc='upper right')\n",
        "plt.show()"
      ],
      "execution_count": 20,
      "outputs": [
        {
          "output_type": "display_data",
          "data": {
            "image/png": "[encoded data removed]",
            "text/plain": [
              "<Figure size 432x288 with 1 Axes>"
            ]
          },
          "metadata": {
            "tags": [],
            "needs_background": "light"
          }
        }
      ]
    },
    {
      "cell_type": "code",
      "metadata": {
        "colab": {
          "base_uri": "https://localhost:8080/",
          "height": 295
        },
        "id": "CB7JaUjfSHAa",
        "outputId": "aa60e2df-04de-461f-975e-5b2d257d7727"
      },
      "source": [
        "#akurasi plot\n",
        "plt.plot(history.history['accuracy'])\n",
        "plt.title('Model accuracy')\n",
        "plt.ylabel('Accuracy')\n",
        "plt.xlabel('epoch')\n",
        "plt.legend(['Train'], loc='lower right')\n",
        "plt.show()"
      ],
      "execution_count": 21,
      "outputs": [
        {
          "output_type": "display_data",
          "data": {
            "image/png": "[encoded data removed]",
            "text/plain": [
              "<Figure size 432x288 with 1 Axes>"
            ]
          },
          "metadata": {
            "tags": [],
            "needs_background": "light"
          }
        }
      ]
    },
    {
      "cell_type": "markdown",
      "metadata": {
        "id": "2HYrFyANSWER"
      },
      "source": [
        "Dwi Atmoko Purbo Sakti [profil dicoding](https://www.dicoding.com/users/dwi_atmoko)"
      ]
    },
    {
      "cell_type": "markdown",
      "metadata": {
        "id": "kTughcxtSUFd"
      },
      "source": [
        ""
      ]
    }
  ]
}